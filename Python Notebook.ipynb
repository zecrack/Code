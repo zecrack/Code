{
 "cells": [
  {
   "cell_type": "code",
   "execution_count": 2,
   "metadata": {},
   "outputs": [
    {
     "name": "stdout",
     "output_type": "stream",
     "text": [
      "-----------执行开始----------\n",
      "100%[**************************************************->]5.19s \n",
      "-----------执行结束----------\n"
     ]
    }
   ],
   "source": [
    "import time\n",
    "scale = 50\n",
    "print('执行开始'.center(scale//2,'-'))\n",
    "start = time.perf_counter()\n",
    "for i in range(scale + 1):\n",
    "    a = '*' * i\n",
    "    b = '.' * (scale - i)\n",
    "    c = (i / scale)*100\n",
    "    dur = time.perf_counter() - start\n",
    "    print('\\r{:^3.0f}%[{}->{}]{:.2f}s'.format(c,a,b,dur),end = ' ')\n",
    "    time.sleep(0.1)\n",
    "print('\\n'+'执行结束'.center(scale//2,'-'))"
   ]
  },
  {
   "cell_type": "code",
   "execution_count": 8,
   "metadata": {},
   "outputs": [
    {
     "name": "stdin",
     "output_type": "stream",
     "text": [
      "请输入待排序数列：\n",
      " 1 2 3 2 1 2 3 2 1 23 2 3 \n"
     ]
    },
    {
     "name": "stdout",
     "output_type": "stream",
     "text": [
      "数列按序排列如下：\n",
      "1 1 1 2 2 2 2 2 3 3 3 23 "
     ]
    }
   ],
   "source": [
    "\n",
    "def BubbleSort(lst):\n",
    "    n=len(lst)\n",
    "    if n<=1:\n",
    "        return lst\n",
    "    for i in range (0,n):\n",
    "        for j in range(0,n-i-1):\n",
    "            if lst[j]>lst[j+1]:\n",
    "                (lst[j],lst[j+1])=(lst[j+1],lst[j])\n",
    "    return lst\n",
    "x=input(\"请输入待排序数列：\\n\")\n",
    "y=x.split()\n",
    "arr=[]\n",
    "for i in  y:\n",
    "    arr.append(int(i))\n",
    "arr=BubbleSort(arr)\n",
    "#print(arr)\n",
    "print(\"数列按序排列如下：\")\n",
    "for i in arr:\n",
    "    print(i,end=' ')"
   ]
  },
  {
   "cell_type": "code",
   "execution_count": 5,
   "metadata": {},
   "outputs": [
    {
     "name": "stdout",
     "output_type": "stream",
     "text": [
      "小黑 会叫\n",
      "喵喵 会“喵喵”叫\n",
      "旺财 会“汪汪”叫\n"
     ]
    }
   ],
   "source": [
    "class Animal(object):  \n",
    "   def __init__(self, name, age):\n",
    "       self.name = name\n",
    "       self.age = age\n",
    "   def call(self):\n",
    "       print(self.name, '会叫')\n",
    "\n",
    "class Cat(Animal):\n",
    "   def __init__(self, name, age, sex):\n",
    "       super(Cat, self).__init__(name, age)\n",
    "       self.sex = sex\n",
    "\n",
    "   def call(self):\n",
    "       print(self.name, '会“喵喵”叫')\n",
    "\n",
    "class Dog(Animal):\n",
    "   def __init__(self, name, age, sex):\n",
    "       super(Dog, self).__init__(name, age)\n",
    "       self.sex = sex\n",
    "   def call(self):\n",
    "       print(self.name, '会“汪汪”叫')\n",
    "        \n",
    "def do(all):\n",
    "   all.call()\n",
    "\n",
    "A = Animal('小黑',4)\n",
    "C = Cat('喵喵', 2, '男')\n",
    "D = Dog('旺财', 5, '女')\n",
    "\n",
    "for x in (A,C,D):\n",
    "   do(x)"
   ]
  },
  {
   "cell_type": "code",
   "execution_count": null,
   "metadata": {},
   "outputs": [],
   "source": [
    "class StudentGPA:\n",
    "    def __init__(self, name, num, credits, qpoints):\n",
    "        self.name = name\n",
    "        self.num = num\n",
    "        self.credits = float(credits)\n",
    "        self.qpoints = float(qpoints)\n",
    "\n",
    "    def getName(selfself):\n",
    "        return selfself.name, selfself.num\n",
    "\n",
    "    def getCredits(selfself):\n",
    "        return selfself.credits\n",
    "\n",
    "    def getQPoints(self):\n",
    "        return self.qpoints\n",
    "\n",
    "    def gps(self):\n",
    "        return self.qpoints / self.credits\n",
    "\n",
    "    def makeStudent(infoStr):\n",
    "        name, num, credits, qpoints = infoStr.split(\"\\t\")\n",
    "        return StudentGPA(name, num, credits, qpoints)\n",
    "\n",
    "filename = input(\"Enter name the grade file:\")\n",
    "infile = open(filename, 'r')\n",
    "best = makeStudent(infile.readline())\n",
    "for line in infile:\n",
    "    s = makeStudent(line)\n",
    "    if s.gpa() > best.gpa():\n",
    "        best = s\n",
    "infile.close()\n",
    "print(\"the best student:\",best.getName())\n",
    "print(\"Credits\",best.getQPoints())\n",
    "print(\"GPA\",best.gpa())"
   ]
  },
  {
   "cell_type": "code",
   "execution_count": null,
   "metadata": {},
   "outputs": [],
   "source": [
    "class Car:\n",
    "    price=300000\n",
    "    def __init__(self,name):\n",
    "        self.name=name\n",
    "        self.color=\"\"\n",
    "    def setColor(self,color):\n",
    "        self.color=color\n",
    "\n",
    "class ECar(Car):\n",
    "    def __init__(self,name):\n",
    "        super().__init__(name)\n",
    "        self.battery_size=300\n",
    "    def getECar(self):\n",
    "        print(\"I'm ecar\"+self.name+\" and the battery siza is \"+str(self.battery_size)+\"km\")\n",
    "\n",
    "my_tesla=ECar(\"tesla\")\n",
    "my_tesla.getECar()"
   ]
  },
  {
   "cell_type": "code",
   "execution_count": 1,
   "metadata": {},
   "outputs": [
    {
     "name": "stdout",
     "output_type": "stream",
     "text": [
      "1\n",
      "2\n",
      "3\n",
      "5\n",
      "8\n",
      "13\n",
      "21\n",
      "34\n",
      "55\n",
      "89\n",
      "144\n",
      "233\n",
      "377\n",
      "610\n",
      "987\n",
      "1597\n",
      "2584\n",
      "4181\n",
      "6765\n",
      "10946\n",
      "Time used: 0.0013750000000001261\n"
     ]
    }
   ],
   "source": [
    "import time\n",
    "start=time.perf_counter()\n",
    "\n",
    "def fibonacici(max):\n",
    "    ll=[]\n",
    "    first,second,n=0,1,0\n",
    "    while n<max:\n",
    "        first,second=second,first+second\n",
    "        n+=1\n",
    "        yield second\n",
    "for i in fibonacici(20):\n",
    "    print(i)\n",
    "elapsed=(time.perf_counter()-start)\n",
    "print(\"Time used:\",elapsed)"
   ]
  }
 ],
 "metadata": {
  "kernelspec": {
   "display_name": "Python 3",
   "language": "python",
   "name": "python3"
  },
  "language_info": {
   "codemirror_mode": {
    "name": "ipython",
    "version": 3
   },
   "file_extension": ".py",
   "mimetype": "text/x-python",
   "name": "python",
   "nbconvert_exporter": "python",
   "pygments_lexer": "ipython3",
   "version": "3.8.2"
  }
 },
 "nbformat": 4,
 "nbformat_minor": 4
}