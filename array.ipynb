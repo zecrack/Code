{
 "cells": [
  {
   "source": [
    "# numpy\n",
    "import numpy as np\n",
    "\n",
    "a=np.array([[0,1],[2,3]])\n",
    "b=np.array([[1,2],[3,4]])\n",
    "c=[[1,2,3],[3,4,5]]\n",
    "print(a,'\\n',b,'\\n')\n",
    "# 矩阵各元素的平方\n",
    "print(np.arange(1,20,5),np.arange(4)**2,np.sin(np.arange(4)))\n",
    "c=np.asarray(c)\n",
    "print('将列表c转为矩阵：',c)\n",
    "c=c.tolist()\n",
    "print('将矩阵c转为列表：',c)\n",
    "print('矩阵相乘：',np.dot(a,b))\n",
    "print('矩阵相加：',a+b)\n",
    "print('对应元素相乘：',a*b)\n",
    "print('数组a的最大值：',np.argmax(a))\n",
    "print('索取数组a中的元素：',a[1][1])\n",
    "\n",
    "a=a.flatten()\n",
    "print('将a压为一维数组：',a)\n",
    "# 此时a = [0 1 2 3]\n",
    "print('获取数组a中的单个元素：',a[1])\n",
    "print('获取数组a中的元素：',a[np.array([0, 1, 3])])\n",
    "print('对数组a切片：',a[1:4])\n",
    "print('取出数组b的第2列：',b[:,1])\n",
    "print('获取满足一定条件的元素：',a[a>2])\n",
    "print('查看数组中的数据类型：',a.dtype)\n",
    "print('求数组a的和：',np.sum(a))\n",
    "print('求数组a的平均值：',np.mean(a))\n",
    "print('求数组a的最小值：',np.min(a))\n",
    "print('数组a的最小值索引：',np.argmin(a))\n",
    "print('求数组a的标准差：',a.std())\n",
    "\n",
    "# axis=1：按行计算 axis=0：按列计算\n",
    "print('按行计算：','求和', b.sum(axis=1),'平均值',b.mean(axis=1))\n",
    "print('按列计算：','求和', b.sum(axis=0),'平均值',b.mean(axis=0))\n",
    "a[:]=5\n",
    "print('将向量的元素全部赋值为５：',a)\n",
    "\n",
    "\n",
    "\n",
    "print('获取数组b的维数：',np.ndim(b))\n",
    "print('获取数组b的形状：',b.shape)\n",
    "print('获取数组b行列个数：',b.shape[0],b.shape[1])\n",
    "print('生成[0,1)之间随机浮点数，形状为5*1',np.random.rand(5))\n",
    "print('生成标准正态分布的随机样本数,形状为3*2：',np.random.rand(3,2))\n",
    "print('生成标准正态分布的随机样本数,形状为3*2，取值范围[-1,1]：',np.random.rand(3,2)*2-1)\n",
    "print('生成长度为3的向量：',np.arange(4))\n",
    "print('生成长度为7的向量：',np.empty(7, dtype=int))\n",
    "print('生成一个矩阵，并将矩阵的元素赋值为固定值,如7：',np.full((3, 5), 7, dtype=int))"
   ],
   "cell_type": "code",
   "metadata": {},
   "execution_count": 9,
   "outputs": [
    {
     "output_type": "stream",
     "name": "stdout",
     "text": [
      "[[0 1]\n [2 3]] \n [[1 2]\n [3 4]] \n\n[0 1 2 3] [0 1 4 9] [0.         0.84147098 0.90929743 0.14112001]\n将列表c转为矩阵： [[1 2 3]\n [3 4 5]]\n将矩阵c转为列表： [[1, 2, 3], [3, 4, 5]]\n矩阵相乘： [[ 3  4]\n [11 16]]\n矩阵相加： [[1 3]\n [5 7]]\n对应元素相乘： [[ 0  2]\n [ 6 12]]\n数组a的最大值： 3\n索取数组a中的元素： 3\n将a压为一维数组： [0 1 2 3]\n获取数组a中的单个元素： 1\n获取数组a中的元素： [0 1 3]\n对数组a切片： [1 2 3]\n取出数组b的第2列： [2 4]\n获取满足一定条件的元素： [3]\n查看数组中的数据类型： int32\n求数组a的和： 6\n求数组a的平均值： 1.5\n求数组a的最小值： 0\n数组a的最小值索引： 0\n求数组a的标准差： 1.118033988749895\n按行计算： 求和 [3 7] 平均值 [1.5 3.5]\n按列计算： 求和 [4 6] 平均值 [2. 3.]\n将向量的元素全部赋值为５： [5 5 5 5]\n获取数组b的维数： 2\n获取数组b的形状： (2, 2)\n获取数组b行列个数： 2 2\n生成[0,1)之间随机浮点数，形状为5*1 [0.39243779 0.24203935 0.77221697 0.93279152 0.1562685 ]\n生成标准正态分布的随机样本数,形状为3*2： [[0.21155152 0.94876206]\n [0.54014114 0.29501554]\n [0.24859552 0.82812075]]\n生成标准正态分布的随机样本数,形状为3*2，取值范围[-1,1]： [[-0.49740432 -0.86020527]\n [-0.62703597 -0.8643569 ]\n [ 0.33522383 -0.37709185]]\n生成长度为3的向量： [0 1 2 3]\n生成长度为7的向量： [         0          1          0 1988382253       1028          0\n        768]\n生成一个矩阵，并将矩阵的元素赋值为固定值,如7： [[7 7 7 7 7]\n [7 7 7 7 7]\n [7 7 7 7 7]]\n"
     ]
    }
   ]
  },
  {
   "cell_type": "code",
   "execution_count": 113,
   "metadata": {},
   "outputs": [
    {
     "output_type": "execute_result",
     "data": {
      "text/plain": [
       "array([5, 5, 5, 5])"
      ]
     },
     "metadata": {},
     "execution_count": 113
    }
   ],
   "source": [
    "a"
   ]
  },
  {
   "source": [
    "# pandas一维数据\n",
    "import pandas as pd\n",
    "m=pd.Series(range(7),index=['红','橙','黄','绿','青','蓝','紫'])\n",
    "n=pd.Series(range(8),index=['红','橙','黄','绿','青','蓝','紫','白'])\n",
    "print(m,n)\n",
    "print('获取数组统计信息：',m.describe())\n",
    "print('根据位置获取数组元素：',m.iloc[1])\n",
    "print('根据索引获取数组元素：',m.loc['橙'])\n",
    "r=m+n\n",
    "print('列表相加',r) #用加号+直接相加，索引值相同的元素才会相加，只出现在一个数组里的索引相加之后的值为空值\n",
    "print('删除列表空值',r.dropna())\n",
    "r=m.add(n,fill_value=0)\n",
    "print('用add将两个数组相加，并用fill_value指定一个数据来填充缺失值：',r)\n"
   ],
   "cell_type": "code",
   "metadata": {},
   "execution_count": 138,
   "outputs": [
    {
     "output_type": "stream",
     "name": "stdout",
     "text": [
      "红    0\n橙    1\n黄    2\n绿    3\n青    4\n蓝    5\n紫    6\ndtype: int64 红    0\n橙    1\n黄    2\n绿    3\n青    4\n蓝    5\n紫    6\n白    7\ndtype: int64\n获取数组统计信息： count    7.000000\nmean     3.000000\nstd      2.160247\nmin      0.000000\n25%      1.500000\n50%      3.000000\n75%      4.500000\nmax      6.000000\ndtype: float64\n根据位置获取数组元素： 1\n根据索引获取数组元素： 1\n列表相加 橙     2.0\n白     NaN\n紫    12.0\n红     0.0\n绿     6.0\n蓝    10.0\n青     8.0\n黄     4.0\ndtype: float64\n删除空值 橙     2.0\n紫    12.0\n红     0.0\n绿     6.0\n蓝    10.0\n青     8.0\n黄     4.0\ndtype: float64\n用add将两个数组相加，并用fill_value指定一个数据来填充缺失值： 橙     2.0\n白     7.0\n紫    12.0\n红     0.0\n绿     6.0\n蓝    10.0\n青     8.0\n黄     4.0\ndtype: float64\n"
     ]
    }
   ]
  },
  {
   "cell_type": "code",
   "execution_count": 38,
   "metadata": {},
   "outputs": [
    {
     "output_type": "stream",
     "name": "stdout",
     "text": [
      "     购药时间 商品编号 商品名称  金额\n0  20点49分  001   牡丹  20\n1  20点50分  002  金银花  10\n2  20点51分  003   芍药  15\n 商品编号    334001.0\n金额          15.0\ndtype: float64\n根据位置查询元素 牡丹\n获取某第3列 0     牡丹\n1    金银花\n2     芍药\nName: 商品名称, dtype: object 0     牡丹\n1    金银花\n2     芍药\nName: 商品名称, dtype: object 0     牡丹\n1    金银花\n2     芍药\nName: 商品名称, dtype: object\n根据索引查询元素 牡丹\n获取多列   商品编号 商品名称\n0  001   牡丹\n1  002  金银花\n2  003   芍药   商品编号 商品名称\n0  001   牡丹\n1  002  金银花\n2  003   芍药\n构造条件，选择金额大于10的数据 0     True\n1    False\n2     True\nName: 金额, dtype: bool\n查询满足条件的数据      购药时间 商品编号 商品名称  金额\n0  20点49分  001   牡丹  20\n2  20点51分  003   芍药  15\n查询数据行列数 (3, 4)\n获取数据统计信息：          金额\ncount   3.0\nmean   15.0\nstd     5.0\nmin    10.0\n25%    12.5\n50%    15.0\n75%    17.5\nmax    20.0\n"
     ]
    }
   ],
   "source": [
    "# pandas二维数据\n",
    "import pandas as pd\n",
    "p={'购药时间':['20点49分','20点50分','20点51分'],\n",
    "'商品编号':['001','002','003'],\n",
    "'商品名称':['牡丹','金银花','芍药'],\n",
    "'金额':[20,10,15]}\n",
    "q=pd.DataFrame(p)\n",
    "print(q)\n",
    "# 从collections中导入有序字典OrderedDict\n",
    "# from collections import OrderedDict\n",
    "# p=OrderedDict(p)\n",
    "# q=pd.DataFrame(p)\n",
    "print('',q.mean())\n",
    "# iloc根据元素的位置查询，loc根据元素的索引查询\n",
    "print('根据位置查询元素',q.iloc[0,2])\n",
    "print('获取某第3列',q.iloc[:,2],q.loc[:,'商品名称'],q['商品名称'])\n",
    "print('根据索引查询元素',q.loc[0,'商品名称'])\n",
    "print('获取多列',q.iloc[:,1:3],q[['商品编号','商品名称']])\n",
    "\n",
    "promise=q.loc[:,'金额']>10\n",
    "print('构造条件，选择金额大于10的数据',promise)\n",
    "print('查询满足条件的数据',q.loc[promise,:])\n",
    "print('查询数据行列数',q.shape)\n",
    "print('获取数据统计信息：',q.describe())\n",
    "\n",
    "\n"
   ]
  },
  {
   "source": [
    "# pandas处理excel文件\n",
    "import pandas as pd\n",
    "# 为了保证某些列的数据在读取之后保持正确，可以用dtype=’object’使导入的数据都是字符串格式，并用head()打印出前5行，查看数据导入是否正确，都有哪些数据，以便了解原数据的特点\n",
    "filename='C:\\\\ze\\\\xxx.xls'\n",
    "xls=pd.ExcelFile(filename,dtype='object')\n",
    "data=xls.parse('Sheet1',dtype='object')\n",
    "print(data.head())\n",
    "\n",
    "# 使用columns和rename进行指定列重命名。\n",
    "# 在数据框中使用columns可以返回一个列索引的列表，先用columns构建一个新旧列名对应的字典，再通过rename进行重命名。\n",
    "# 这里要注意rename后面的括号里，逗号前面的格式一定要是columns=字典名或columns=具体的字典，其他形式无效；\n",
    "# 默认inplace等于False，代表原数据框不变，会创建一个更改后新的数据框，inplace等于True时，表示在数据框本身进行改动。\n",
    "print(data.columns)\n",
    "col={'购药时间':'销售时间','商品名称':'药品名称'}\n",
    "data.rename(columns=col,inplace=True)\n",
    "# 通过dropna删除缺失值\n",
    "# subset:list，表示在哪些列中查看缺失值，\n",
    "# how='any'与省略掉的默认的axis=0配合使用，表示如何删掉缺失值：any表示只要有缺失值，就删掉对应行。\n",
    "# inplace=False，表示将修改后的数据框新建一个\n",
    "print(data.describe())\n",
    "data2=data.dropna(subset=['销售时间','药品名称'],how='any',inplace==False)\n",
    "print(data2.head())\n",
    "# 数据类型转换\n",
    "data2['金额']=data2['金额'].astype('float')\n",
    "\n"
   ],
   "cell_type": "code",
   "metadata": {},
   "execution_count": null,
   "outputs": []
  }
 ],
 "metadata": {
  "kernelspec": {
   "name": "python3",
   "display_name": "Python 3.9.1 64-bit",
   "metadata": {
    "interpreter": {
     "hash": "9dc68839223a713148c051f22ca9d6fd25f6d83dc6c4fa514d2c08e40865e1c2"
    }
   }
  }
 },
 "nbformat": 4,
 "nbformat_minor": 5
}