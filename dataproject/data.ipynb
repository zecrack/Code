{
 "cells": [
  {
   "cell_type": "code",
   "execution_count": 11,
   "metadata": {},
   "outputs": [
    {
     "data": {
      "text/plain": [
       "'temp-plot.html'"
      ]
     },
     "execution_count": 11,
     "metadata": {},
     "output_type": "execute_result"
    }
   ],
   "source": [
    "import pandas as pd\n",
    "from plotly.offline import  plot\n",
    "import plotly.express as px\n",
    "startyear=2005\n",
    "dataset=pd.read_excel(\"life_expectancy_years.xlsx\")\n",
    "a=pd.DataFrame(columns=(\"country\",\"life-exp\",\"year\"))\n",
    "for i in range(startyear,2018+1):\n",
    "    b=dataset[['country',i]].copy()\n",
    "    b['year']=i\n",
    "    b.columns=['country','life-exp','year',]\n",
    "    c=a.append(b)\n",
    "    a=c\n",
    "dataset=pd.read_excel(\"income_per_person_gdppercapita_ppp_inflation_adjusted.xlsx\")\n",
    "x=pd.DataFrame(columns=(\"country\",\"income\",\"year\"))\n",
    "for i in range(startyear,2018+1):\n",
    "    y=dataset[['country',i]].copy()\n",
    "    y['year']=i\n",
    "    y.columns=['country','income','year',]\n",
    "    z=x.append(y)\n",
    "    x=z\n",
    "dataset=pd.read_excel(\"population_total.xlsx\")\n",
    "r=pd.DataFrame(columns=(\"country\",\"population\",\"year\"))\n",
    "for i in range(startyear,2018+1):\n",
    "    s=dataset[['country',i]].copy()\n",
    "    s['year']=i\n",
    "    s.columns=['country','population','year']\n",
    "    t=r.append(s)\n",
    "    r=t\n",
    "data= pd.merge(a,x)\n",
    "data= pd.merge(data,r)\n",
    "data.to_excel(f\"{startyear}到2018人均GDP和人均寿命.xlsx\")\n",
    "dataset=pd.read_excel(\"2005到2018人均GDP和人均寿命.xlsx\")\n",
    "figure = px.scatter(dataset, x=\"income\", y=\"life-exp\", animation_frame=\"year\",animation_group=\"country\",size=\"income\",color=\"population\",hover_name=\"country\",log_x=True, size_max=45,range_x=[500,200000], range_y=[25,90],labels=dict(income=\"人均收入(PPP购买力标准)\",lifeExp=\"人均寿命\"))\n",
    "plot(figure)"
   ]
  },
  {
   "cell_type": "code",
   "execution_count": null,
   "metadata": {},
   "outputs": [],
   "source": []
  }
 ],
 "metadata": {
  "kernelspec": {
   "display_name": "Python 3",
   "language": "python",
   "name": "python3"
  },
  "language_info": {
   "codemirror_mode": {
    "name": "ipython",
    "version": 3
   },
   "file_extension": ".py",
   "mimetype": "text/x-python",
   "name": "python",
   "nbconvert_exporter": "python",
   "pygments_lexer": "ipython3",
   "version": "3.8.2"
  }
 },
 "nbformat": 4,
 "nbformat_minor": 4
}
